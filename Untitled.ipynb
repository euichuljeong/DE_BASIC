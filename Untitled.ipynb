{
 "cells": [
  {
   "cell_type": "code",
   "execution_count": 4,
   "id": "75433ca0-a17f-447f-8cd3-b3f928e42c5d",
   "metadata": {},
   "outputs": [
    {
     "name": "stdout",
     "output_type": "stream",
     "text": [
      "180\n"
     ]
    }
   ],
   "source": [
    "text = (\n",
    "    \"늦은 밤, 침대 위에서 스마트폰을 손에 쥔 채 이불을 덮고 누워 있다. \"\n",
    "    \"눈은 피곤해지고 머리는 멍하지만, 손은 계속 화면을 넘긴다. \"\n",
    "    \"피드 속 짧은 글귀와 영상들이 스쳐 지나가고, 나는 그 안에서 뭔가를 찾는다. \"\n",
    "    \"실은 아무것도 기대하지 않지만, 그냥 멈추면 더 공허해질까 봐 멈추지 않는다. \"\n",
    "    \"이 반복이 습관이 되고, 습관이 고요한 밤을 버티게 해준다. \"\n",
    "    \"그건 위로인가, 회피인가. 나도 잘 모르겠지만 지금은 그저 그렇게 밤을 흘려보낸다.\"\n",
    ")\n",
    "print(len(text.replace(\" \", \"\")))\n"
   ]
  }
 ],
 "metadata": {
  "kernelspec": {
   "display_name": "Python 3 (ipykernel)",
   "language": "python",
   "name": "python3"
  },
  "language_info": {
   "codemirror_mode": {
    "name": "ipython",
    "version": 3
   },
   "file_extension": ".py",
   "mimetype": "text/x-python",
   "name": "python",
   "nbconvert_exporter": "python",
   "pygments_lexer": "ipython3",
   "version": "3.11.12"
  }
 },
 "nbformat": 4,
 "nbformat_minor": 5
}
