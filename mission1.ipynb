{
 "cells": [
  {
   "cell_type": "markdown",
   "id": "9535fc8f-07db-451b-b011-669c99985fb8",
   "metadata": {},
   "source": [
    "# 미션 1"
   ]
  },
  {
   "cell_type": "code",
   "execution_count": 27,
   "id": "e94ffaa0-be5a-440a-9bcc-1926237dfd6a",
   "metadata": {},
   "outputs": [
    {
     "ename": "JSONDecodeError",
     "evalue": "Expecting value: line 1 column 1 (char 0)",
     "output_type": "error",
     "traceback": [
      "\u001b[31m---------------------------------------------------------------------------\u001b[39m",
      "\u001b[31mJSONDecodeError\u001b[39m                           Traceback (most recent call last)",
      "\u001b[36mFile \u001b[39m\u001b[32m~\\Desktop\\DE_BASIC\\.venv\\Lib\\site-packages\\requests\\models.py:976\u001b[39m, in \u001b[36mResponse.json\u001b[39m\u001b[34m(self, **kwargs)\u001b[39m\n\u001b[32m    975\u001b[39m \u001b[38;5;28;01mtry\u001b[39;00m:\n\u001b[32m--> \u001b[39m\u001b[32m976\u001b[39m     \u001b[38;5;28;01mreturn\u001b[39;00m \u001b[43mcomplexjson\u001b[49m\u001b[43m.\u001b[49m\u001b[43mloads\u001b[49m\u001b[43m(\u001b[49m\u001b[38;5;28;43mself\u001b[39;49m\u001b[43m.\u001b[49m\u001b[43mtext\u001b[49m\u001b[43m,\u001b[49m\u001b[43m \u001b[49m\u001b[43m*\u001b[49m\u001b[43m*\u001b[49m\u001b[43mkwargs\u001b[49m\u001b[43m)\u001b[49m\n\u001b[32m    977\u001b[39m \u001b[38;5;28;01mexcept\u001b[39;00m JSONDecodeError \u001b[38;5;28;01mas\u001b[39;00m e:\n\u001b[32m    978\u001b[39m     \u001b[38;5;66;03m# Catch JSON-related errors and raise as requests.JSONDecodeError\u001b[39;00m\n\u001b[32m    979\u001b[39m     \u001b[38;5;66;03m# This aliases json.JSONDecodeError and simplejson.JSONDecodeError\u001b[39;00m\n",
      "\u001b[36mFile \u001b[39m\u001b[32m~\\AppData\\Roaming\\uv\\python\\cpython-3.11.12-windows-x86_64-none\\Lib\\json\\__init__.py:346\u001b[39m, in \u001b[36mloads\u001b[39m\u001b[34m(s, cls, object_hook, parse_float, parse_int, parse_constant, object_pairs_hook, **kw)\u001b[39m\n\u001b[32m    343\u001b[39m \u001b[38;5;28;01mif\u001b[39;00m (\u001b[38;5;28mcls\u001b[39m \u001b[38;5;129;01mis\u001b[39;00m \u001b[38;5;28;01mNone\u001b[39;00m \u001b[38;5;129;01mand\u001b[39;00m object_hook \u001b[38;5;129;01mis\u001b[39;00m \u001b[38;5;28;01mNone\u001b[39;00m \u001b[38;5;129;01mand\u001b[39;00m\n\u001b[32m    344\u001b[39m         parse_int \u001b[38;5;129;01mis\u001b[39;00m \u001b[38;5;28;01mNone\u001b[39;00m \u001b[38;5;129;01mand\u001b[39;00m parse_float \u001b[38;5;129;01mis\u001b[39;00m \u001b[38;5;28;01mNone\u001b[39;00m \u001b[38;5;129;01mand\u001b[39;00m\n\u001b[32m    345\u001b[39m         parse_constant \u001b[38;5;129;01mis\u001b[39;00m \u001b[38;5;28;01mNone\u001b[39;00m \u001b[38;5;129;01mand\u001b[39;00m object_pairs_hook \u001b[38;5;129;01mis\u001b[39;00m \u001b[38;5;28;01mNone\u001b[39;00m \u001b[38;5;129;01mand\u001b[39;00m \u001b[38;5;129;01mnot\u001b[39;00m kw):\n\u001b[32m--> \u001b[39m\u001b[32m346\u001b[39m     \u001b[38;5;28;01mreturn\u001b[39;00m \u001b[43m_default_decoder\u001b[49m\u001b[43m.\u001b[49m\u001b[43mdecode\u001b[49m\u001b[43m(\u001b[49m\u001b[43ms\u001b[49m\u001b[43m)\u001b[49m\n\u001b[32m    347\u001b[39m \u001b[38;5;28;01mif\u001b[39;00m \u001b[38;5;28mcls\u001b[39m \u001b[38;5;129;01mis\u001b[39;00m \u001b[38;5;28;01mNone\u001b[39;00m:\n",
      "\u001b[36mFile \u001b[39m\u001b[32m~\\AppData\\Roaming\\uv\\python\\cpython-3.11.12-windows-x86_64-none\\Lib\\json\\decoder.py:337\u001b[39m, in \u001b[36mJSONDecoder.decode\u001b[39m\u001b[34m(self, s, _w)\u001b[39m\n\u001b[32m    333\u001b[39m \u001b[38;5;250m\u001b[39m\u001b[33;03m\"\"\"Return the Python representation of ``s`` (a ``str`` instance\u001b[39;00m\n\u001b[32m    334\u001b[39m \u001b[33;03mcontaining a JSON document).\u001b[39;00m\n\u001b[32m    335\u001b[39m \n\u001b[32m    336\u001b[39m \u001b[33;03m\"\"\"\u001b[39;00m\n\u001b[32m--> \u001b[39m\u001b[32m337\u001b[39m obj, end = \u001b[38;5;28;43mself\u001b[39;49m\u001b[43m.\u001b[49m\u001b[43mraw_decode\u001b[49m\u001b[43m(\u001b[49m\u001b[43ms\u001b[49m\u001b[43m,\u001b[49m\u001b[43m \u001b[49m\u001b[43midx\u001b[49m\u001b[43m=\u001b[49m\u001b[43m_w\u001b[49m\u001b[43m(\u001b[49m\u001b[43ms\u001b[49m\u001b[43m,\u001b[49m\u001b[43m \u001b[49m\u001b[32;43m0\u001b[39;49m\u001b[43m)\u001b[49m\u001b[43m.\u001b[49m\u001b[43mend\u001b[49m\u001b[43m(\u001b[49m\u001b[43m)\u001b[49m\u001b[43m)\u001b[49m\n\u001b[32m    338\u001b[39m end = _w(s, end).end()\n",
      "\u001b[36mFile \u001b[39m\u001b[32m~\\AppData\\Roaming\\uv\\python\\cpython-3.11.12-windows-x86_64-none\\Lib\\json\\decoder.py:355\u001b[39m, in \u001b[36mJSONDecoder.raw_decode\u001b[39m\u001b[34m(self, s, idx)\u001b[39m\n\u001b[32m    354\u001b[39m \u001b[38;5;28;01mexcept\u001b[39;00m \u001b[38;5;167;01mStopIteration\u001b[39;00m \u001b[38;5;28;01mas\u001b[39;00m err:\n\u001b[32m--> \u001b[39m\u001b[32m355\u001b[39m     \u001b[38;5;28;01mraise\u001b[39;00m JSONDecodeError(\u001b[33m\"\u001b[39m\u001b[33mExpecting value\u001b[39m\u001b[33m\"\u001b[39m, s, err.value) \u001b[38;5;28;01mfrom\u001b[39;00m\u001b[38;5;250m \u001b[39m\u001b[38;5;28;01mNone\u001b[39;00m\n\u001b[32m    356\u001b[39m \u001b[38;5;28;01mreturn\u001b[39;00m obj, end\n",
      "\u001b[31mJSONDecodeError\u001b[39m: Expecting value: line 1 column 1 (char 0)",
      "\nDuring handling of the above exception, another exception occurred:\n",
      "\u001b[31mJSONDecodeError\u001b[39m                           Traceback (most recent call last)",
      "\u001b[36mCell\u001b[39m\u001b[36m \u001b[39m\u001b[32mIn[27]\u001b[39m\u001b[32m, line 25\u001b[39m\n\u001b[32m     23\u001b[39m url = \u001b[33mf\u001b[39m\u001b[33m'\u001b[39m\u001b[33mhttp://openapi.seoul.go.kr:8088/\u001b[39m\u001b[38;5;132;01m{\u001b[39;00mAPI_KEY\u001b[38;5;132;01m}\u001b[39;00m\u001b[33m/\u001b[39m\u001b[38;5;132;01m{\u001b[39;00mTYPE\u001b[38;5;132;01m}\u001b[39;00m\u001b[33m/tbLnOpendataRtmsV/\u001b[39m\u001b[38;5;132;01m{\u001b[39;00mSTART_INDEX\u001b[38;5;132;01m}\u001b[39;00m\u001b[33m/\u001b[39m\u001b[38;5;132;01m{\u001b[39;00mEND_INDEX\u001b[38;5;132;01m}\u001b[39;00m\u001b[33m/\u001b[39m\u001b[38;5;132;01m{\u001b[39;00mRCPT_YR\u001b[38;5;132;01m}\u001b[39;00m\u001b[33m/\u001b[39m\u001b[38;5;132;01m{\u001b[39;00mCGG_CD\u001b[38;5;132;01m}\u001b[39;00m\u001b[33m/\u001b[39m\u001b[38;5;132;01m{\u001b[39;00mCGG_NM\u001b[38;5;132;01m}\u001b[39;00m\u001b[33m/\u001b[39m\u001b[38;5;132;01m{\u001b[39;00mSTDG_CD\u001b[38;5;132;01m}\u001b[39;00m\u001b[33m/\u001b[39m\u001b[38;5;132;01m{\u001b[39;00mLOTNO_SE\u001b[38;5;132;01m}\u001b[39;00m\u001b[33m/\u001b[39m\u001b[38;5;132;01m{\u001b[39;00mLOTNO_SE_NM\u001b[38;5;132;01m}\u001b[39;00m\u001b[33m/\u001b[39m\u001b[38;5;132;01m{\u001b[39;00mMNO\u001b[38;5;132;01m}\u001b[39;00m\u001b[33m/\u001b[39m\u001b[38;5;132;01m{\u001b[39;00mSNO\u001b[38;5;132;01m}\u001b[39;00m\u001b[33m/\u001b[39m\u001b[38;5;132;01m{\u001b[39;00mBLDG_NM\u001b[38;5;132;01m}\u001b[39;00m\u001b[33m/\u001b[39m\u001b[38;5;132;01m{\u001b[39;00mCTRT_DAY\u001b[38;5;132;01m}\u001b[39;00m\u001b[33m/\u001b[39m\u001b[38;5;132;01m{\u001b[39;00mBLDG_USG\u001b[38;5;132;01m}\u001b[39;00m\u001b[33m'\u001b[39m\n\u001b[32m     24\u001b[39m res = requests.get(url)\n\u001b[32m---> \u001b[39m\u001b[32m25\u001b[39m data = \u001b[43mres\u001b[49m\u001b[43m.\u001b[49m\u001b[43mjson\u001b[49m\u001b[43m(\u001b[49m\u001b[43m)\u001b[49m\n\u001b[32m     27\u001b[39m rows = data[\u001b[33m'\u001b[39m\u001b[33mtbLnOpendataRtmsV\u001b[39m\u001b[33m'\u001b[39m][\u001b[33m'\u001b[39m\u001b[33mrow\u001b[39m\u001b[33m'\u001b[39m]\n\u001b[32m     28\u001b[39m df = pd.json_normalize(rows)\n",
      "\u001b[36mFile \u001b[39m\u001b[32m~\\Desktop\\DE_BASIC\\.venv\\Lib\\site-packages\\requests\\models.py:980\u001b[39m, in \u001b[36mResponse.json\u001b[39m\u001b[34m(self, **kwargs)\u001b[39m\n\u001b[32m    976\u001b[39m     \u001b[38;5;28;01mreturn\u001b[39;00m complexjson.loads(\u001b[38;5;28mself\u001b[39m.text, **kwargs)\n\u001b[32m    977\u001b[39m \u001b[38;5;28;01mexcept\u001b[39;00m JSONDecodeError \u001b[38;5;28;01mas\u001b[39;00m e:\n\u001b[32m    978\u001b[39m     \u001b[38;5;66;03m# Catch JSON-related errors and raise as requests.JSONDecodeError\u001b[39;00m\n\u001b[32m    979\u001b[39m     \u001b[38;5;66;03m# This aliases json.JSONDecodeError and simplejson.JSONDecodeError\u001b[39;00m\n\u001b[32m--> \u001b[39m\u001b[32m980\u001b[39m     \u001b[38;5;28;01mraise\u001b[39;00m RequestsJSONDecodeError(e.msg, e.doc, e.pos)\n",
      "\u001b[31mJSONDecodeError\u001b[39m: Expecting value: line 1 column 1 (char 0)"
     ]
    }
   ],
   "source": [
    "import requests\n",
    "import pandas as pd\n",
    "\n",
    "# KEY 값\n",
    "API_KEY = '5345624a6b617764353756767a474c'\n",
    "\n",
    "# 서울시 부동산 실거래가 API는 경로기반(URL)으로만 작동함\n",
    "TYPE = 'json'        # 요청 파일타입\n",
    "START_INDEX = '1'    # 시작 페이지\n",
    "END_INDEX = ' '   # 끝 페이지\n",
    "RCPT_YR = ' '         # 접수연도\n",
    "CGG_CD = ' '          # 자치구 코드(5자리 정수)\n",
    "CGG_NM = ' '          # 자치구명(문자열)\n",
    "STDG_CD = ' '         # 법정동코드(1:대지, 2:산, 3:블럭)\n",
    "LOTNO_SE = ' '        # 지번구분(문자열)\n",
    "LOTNO_SE_NM = ' '     # 지번구분명()\n",
    "MNO = ' '             # 본번(4자리 정수)\n",
    "SNO = ' '             # 부번(4자리 정수)\n",
    "BLDG_NM = ' '         # 건물명(문자열)\n",
    "CTRT_DAY = ' '        # 계약일(YYYYMMDD)\n",
    "BLDG_USG = ' '        #건물용도(아파트/단독가구/연립다세대/오피스텔 택1)\n",
    "# url = f'http://openapi.seoul.go.kr:8088/{API_KEY}/json/tbLnOpendataRtmsV/{start_index}/{end_index}/'\n",
    "url = f'http://openapi.seoul.go.kr:8088/{API_KEY}/{TYPE}/tbLnOpendataRtmsV/{START_INDEX}/{END_INDEX}/{RCPT_YR}/{CGG_CD}/{CGG_NM}/{STDG_CD}/{LOTNO_SE}/{LOTNO_SE_NM}/{MNO}/{SNO}/{BLDG_NM}/{CTRT_DAY}/{BLDG_USG}'\n",
    "res = requests.get(url)\n",
    "data = res.json()\n",
    "\n",
    "rows = data['tbLnOpendataRtmsV']['row']\n",
    "df = pd.json_normalize(rows)\n",
    "\n",
    "print(df.head(1))\n",
    "# 강남구 필터\n",
    "#df_gangnam = df[df['CGG_NM'] == '강남구']\n",
    "#print(df_gangnam.head(1))\n"
   ]
  },
  {
   "cell_type": "code",
   "execution_count": 21,
   "id": "10b793d5-8f27-4df7-a56b-a67cff40e2c0",
   "metadata": {},
   "outputs": [
    {
     "name": "stdout",
     "output_type": "stream",
     "text": [
      "b'{\"RESULT\":{\"CODE\":\"INFO-200\",\"MESSAGE\":\"\\xed\\x95\\xb4\\xeb\\x8b\\xb9\\xed\\x95\\x98\\xeb\\x8a\\x94 \\xeb\\x8d\\xb0\\xec\\x9d\\xb4\\xed\\x84\\xb0\\xea\\xb0\\x80 \\xec\\x97\\x86\\xec\\x8a\\xb5\\xeb\\x8b\\x88\\xeb\\x8b\\xa4.\"}}'\n"
     ]
    }
   ],
   "source": [
    "import requests\n",
    "\n",
    "url = 'http://openapi.seoul.go.kr:8088/5345624a6b617764353756767a474c/json/tbLnOpendataRtmsV/1/5/20250301'\n",
    "\n",
    "response = requests.get(url)\n",
    "print(response.content)"
   ]
  },
  {
   "cell_type": "code",
   "execution_count": 5,
   "id": "8b4f84b8-c3ec-46ec-88fb-96b87c83aa1c",
   "metadata": {},
   "outputs": [
    {
     "name": "stderr",
     "output_type": "stream",
     "text": [
      "100%|█████████████████████████████████████████████| 11/11 [00:31<00:00,  2.88s/it]\n"
     ]
    },
    {
     "name": "stdout",
     "output_type": "stream",
     "text": [
      "  RCPT_YR CGG_CD CGG_NM STDG_CD STDG_NM LOTNO_SE LOTNO_SE_NM   MNO   SNO  \\\n",
      "0    2025  11530    구로구   10200     구로동        1          대지  1130  0023   \n",
      "1    2025  11290    성북구   13800     장위동        1          대지  0219  0314   \n",
      "2    2025  11620    관악구   10100     봉천동        1          대지  1717  0000   \n",
      "3    2025  11290    성북구   13800     장위동        1          대지  0230  0105   \n",
      "4    2025  11305    강북구   10100     미아동        1          대지  0129  0008   \n",
      "\n",
      "       BLDG_NM  ... THING_AMT ARCH_AREA  LAND_AREA   FLR  RGHT_SE RTRCN_DAY  \\\n",
      "0  골드마인(Ⅲ)오피스텔  ...      6000     14.40      16.96   3.0                      \n",
      "1       더커먼즈37  ...     28500     26.85      20.00   4.0                      \n",
      "2       관악푸르지오  ...     76000     84.75       0.00  14.0                      \n",
      "3        동방빌리지  ...     23400     40.98      18.00  -1.0                      \n",
      "4       MK프라디움  ...     51500     55.00      38.00   4.0                      \n",
      "\n",
      "  ARCH_YR BLDG_USG DCLR_SE OPBIZ_RESTAGNT_SGG_NM  \n",
      "0    2002     오피스텔    중개거래                서울 금천구  \n",
      "1    2021    연립다세대     직거래                        \n",
      "2    2004      아파트     직거래                        \n",
      "3    1994    연립다세대    중개거래                서울 성북구  \n",
      "4    2022    연립다세대     직거래                        \n",
      "\n",
      "[5 rows x 21 columns]\n"
     ]
    }
   ],
   "source": [
    "import pandas as pd\n",
    "import requests\n",
    "from datetime import datetime\n",
    "from concurrent.futures import ThreadPoolExecutor\n",
    "from tqdm import tqdm\n",
    "\n",
    "# 설정\n",
    "SERVICE_KEY = '5345624a6b617764353756767a474c'\n",
    "BASE_URL = f'http://openapi.seoul.go.kr:8088/{SERVICE_KEY}/json/tbLnOpendataRtmsV'\n",
    "NUM_PAGES = 11  # 1000건 * 11 = 최대 11,000건\n",
    "\n",
    "def fetch_page(j):\n",
    "    start_idx = 1 + (j - 1) * 1000\n",
    "    end_idx = j * 1000\n",
    "    url = f'{BASE_URL}/{start_idx}/{end_idx}'\n",
    "    try:\n",
    "        response = requests.get(url)\n",
    "        content = response.json()\n",
    "        rows = content['tbLnOpendataRtmsV'].get('row', [])\n",
    "        return pd.DataFrame(rows)\n",
    "    except Exception as e:\n",
    "        print(f\"[에러] 페이지 {j} 요청 실패: {e}\")\n",
    "        return pd.DataFrame()\n",
    "\n",
    "results = []\n",
    "with ThreadPoolExecutor(max_workers=6) as executor:\n",
    "    for df in tqdm(executor.map(fetch_page, range(1, NUM_PAGES + 1)), total=NUM_PAGES):\n",
    "        results.append(df)\n",
    "\n",
    "data = pd.concat(results, ignore_index=True)\n",
    "\n",
    "print(data.head())"
   ]
  },
  {
   "cell_type": "markdown",
   "id": "7fb8ca6e-6ee7-4028-946f-c001e73c48ba",
   "metadata": {},
   "source": [
    "# 공공데이터포털"
   ]
  },
  {
   "cell_type": "code",
   "execution_count": 7,
   "id": "d982c6d6-193a-4643-9933-cc09e29001ca",
   "metadata": {},
   "outputs": [
    {
     "name": "stderr",
     "output_type": "stream",
     "text": [
      " 43%|███████████████████                         | 39/90 [00:00<00:00, 187.83it/s]"
     ]
    },
    {
     "name": "stdout",
     "output_type": "stream",
     "text": [
      "[오류] 45110-202501: 'response'\n",
      "[오류] 43110-202501: 'response'\n",
      "[오류] 11110-202501: 'response'\n",
      "[오류] 41110-202501: 'response'\n",
      "[오류] 44130-202501: 'response'\n",
      "[오류] 11200-202501: 'response'\n",
      "[오류] 46110-202501: 'response'\n",
      "[오류] 26260-202501: 'response'\n",
      "[오류] 42110-202501: 'response'\n",
      "[오류] 41170-202501: 'response'\n",
      "[오류] 26110-202501: 'response'\n",
      "[오류] 11305-202501: 'response'\n",
      "[오류] 48121-202501: 'response'\n",
      "[오류] 50110-202501: 'response'\n",
      "[오류] 47111-202501: 'response'\n",
      "[오류] 11200-202502: 'response'\n",
      "[오류] 11110-202502: 'response'\n",
      "[오류] 26260-202502: 'response'\n",
      "[오류] 11305-202502: 'response'\n",
      "[오류] 41110-202502: 'response'\n",
      "[오류] 43110-202502: 'response'\n",
      "[오류] 26110-202502: 'response'\n",
      "[오류] 42110-202502: 'response'\n",
      "[오류] 41170-202502: 'response'\n",
      "[오류] 45110-202502: 'response'\n",
      "[오류] 46110-202502: 'response'\n",
      "[오류] 47111-202502: 'response'\n",
      "[오류] 11110-202503: 'response'\n",
      "[오류] 26260-202503: 'response'\n",
      "[오류] 50110-202502: 'response'\n",
      "[오류] 11200-202503: 'response'\n",
      "[오류] 48121-202502: 'response'\n",
      "[오류] 44130-202502: 'response'\n",
      "[오류] 11305-202503: 'response'\n",
      "[오류] 41170-202503: 'response'\n",
      "[오류] 26110-202503: 'response'\n",
      "[오류] 42110-202503: 'response'\n",
      "[오류] 41110-202503: 'response'\n",
      "[오류] 48121-202503: 'response'\n",
      "[오류] 44130-202503: 'response'\n",
      "[오류] 43110-202503: 'response'\n",
      "[오류] 46110-202503: 'response'\n",
      "[오류] 11305-202504: 'response'\n",
      "[오류] 11200-202504: 'response'\n",
      "[오류] 11110-202504: 'response'\n",
      "[오류] 45110-202503: 'response'\n",
      "[오류] 47111-202503: 'response'\n",
      "[오류] 26110-202504: 'response'\n"
     ]
    },
    {
     "name": "stderr",
     "output_type": "stream",
     "text": [
      " 91%|████████████████████████████████████████    | 82/90 [00:00<00:00, 202.36it/s]"
     ]
    },
    {
     "name": "stdout",
     "output_type": "stream",
     "text": [
      "[오류] 26260-202504: 'response'\n",
      "[오류] 50110-202503: 'response'\n",
      "[오류] 46110-202504: 'response'\n",
      "[오류] 41170-202504: 'response'\n",
      "[오류] 41110-202504: 'response'\n",
      "[오류] 42110-202504: 'response'\n",
      "[오류] 44130-202504: 'response'\n",
      "[오류] 43110-202504: 'response'\n",
      "[오류] 47111-202504: 'response'\n",
      "[오류] 48121-202504: 'response'\n",
      "[오류] 45110-202504: 'response'\n",
      "[오류] 50110-202504: 'response'\n",
      "[오류] 11200-202505: 'response'\n",
      "[오류] 11305-202505: 'response'\n",
      "[오류] 11110-202505: 'response'\n",
      "[오류] 41170-202505: 'response'\n",
      "[오류] 43110-202505: 'response'\n",
      "[오류] 26110-202505: 'response'\n",
      "[오류] 41110-202505: 'response'\n",
      "[오류] 42110-202505: 'response'\n",
      "[오류] 26260-202505: 'response'\n",
      "[오류] 45110-202505: 'response'\n",
      "[오류] 44130-202505: 'response'\n",
      "[오류] 11110-202506: 'response'\n",
      "[오류] 48121-202505: 'response'\n",
      "[오류] 50110-202505: 'response'\n",
      "[오류] 47111-202505: 'response'\n",
      "[오류] 46110-202505: 'response'\n",
      "[오류] 11200-202506: 'response'\n",
      "[오류] 26110-202506: 'response'\n",
      "[오류] 26260-202506: 'response'\n",
      "[오류] 43110-202506: 'response'\n",
      "[오류] 11305-202506: 'response'\n",
      "[오류] 41110-202506: 'response'\n",
      "[오류] 41170-202506: 'response'\n",
      "[오류] 42110-202506: 'response'\n",
      "[오류] 50110-202506: 'response'\n",
      "[오류] 44130-202506: 'response'\n",
      "[오류] 45110-202506: 'response'\n",
      "[오류] 46110-202506: 'response'\n",
      "[오류] 47111-202506: 'response'\n",
      "[오류] 48121-202506: 'response'\n"
     ]
    },
    {
     "name": "stderr",
     "output_type": "stream",
     "text": [
      "100%|████████████████████████████████████████████| 90/90 [00:00<00:00, 203.13it/s]\n"
     ]
    },
    {
     "ename": "ValueError",
     "evalue": "No objects to concatenate",
     "output_type": "error",
     "traceback": [
      "\u001b[31m---------------------------------------------------------------------------\u001b[39m",
      "\u001b[31mValueError\u001b[39m                                Traceback (most recent call last)",
      "\u001b[36mCell\u001b[39m\u001b[36m \u001b[39m\u001b[32mIn[7]\u001b[39m\u001b[32m, line 65\u001b[39m\n\u001b[32m     62\u001b[39m             results.append(df)\n\u001b[32m     64\u001b[39m \u001b[38;5;66;03m# 데이터 병합 및 정제\u001b[39;00m\n\u001b[32m---> \u001b[39m\u001b[32m65\u001b[39m final_df = \u001b[43mpd\u001b[49m\u001b[43m.\u001b[49m\u001b[43mconcat\u001b[49m\u001b[43m(\u001b[49m\u001b[43mresults\u001b[49m\u001b[43m,\u001b[49m\u001b[43m \u001b[49m\u001b[43mignore_index\u001b[49m\u001b[43m=\u001b[49m\u001b[38;5;28;43;01mTrue\u001b[39;49;00m\u001b[43m)\u001b[49m\n\u001b[32m     66\u001b[39m \u001b[38;5;28mprint\u001b[39m(final_df.head())\n",
      "\u001b[36mFile \u001b[39m\u001b[32m~\\Desktop\\DE_BASIC\\.venv\\Lib\\site-packages\\pandas\\core\\reshape\\concat.py:382\u001b[39m, in \u001b[36mconcat\u001b[39m\u001b[34m(objs, axis, join, ignore_index, keys, levels, names, verify_integrity, sort, copy)\u001b[39m\n\u001b[32m    379\u001b[39m \u001b[38;5;28;01melif\u001b[39;00m copy \u001b[38;5;129;01mand\u001b[39;00m using_copy_on_write():\n\u001b[32m    380\u001b[39m     copy = \u001b[38;5;28;01mFalse\u001b[39;00m\n\u001b[32m--> \u001b[39m\u001b[32m382\u001b[39m op = \u001b[43m_Concatenator\u001b[49m\u001b[43m(\u001b[49m\n\u001b[32m    383\u001b[39m \u001b[43m    \u001b[49m\u001b[43mobjs\u001b[49m\u001b[43m,\u001b[49m\n\u001b[32m    384\u001b[39m \u001b[43m    \u001b[49m\u001b[43maxis\u001b[49m\u001b[43m=\u001b[49m\u001b[43maxis\u001b[49m\u001b[43m,\u001b[49m\n\u001b[32m    385\u001b[39m \u001b[43m    \u001b[49m\u001b[43mignore_index\u001b[49m\u001b[43m=\u001b[49m\u001b[43mignore_index\u001b[49m\u001b[43m,\u001b[49m\n\u001b[32m    386\u001b[39m \u001b[43m    \u001b[49m\u001b[43mjoin\u001b[49m\u001b[43m=\u001b[49m\u001b[43mjoin\u001b[49m\u001b[43m,\u001b[49m\n\u001b[32m    387\u001b[39m \u001b[43m    \u001b[49m\u001b[43mkeys\u001b[49m\u001b[43m=\u001b[49m\u001b[43mkeys\u001b[49m\u001b[43m,\u001b[49m\n\u001b[32m    388\u001b[39m \u001b[43m    \u001b[49m\u001b[43mlevels\u001b[49m\u001b[43m=\u001b[49m\u001b[43mlevels\u001b[49m\u001b[43m,\u001b[49m\n\u001b[32m    389\u001b[39m \u001b[43m    \u001b[49m\u001b[43mnames\u001b[49m\u001b[43m=\u001b[49m\u001b[43mnames\u001b[49m\u001b[43m,\u001b[49m\n\u001b[32m    390\u001b[39m \u001b[43m    \u001b[49m\u001b[43mverify_integrity\u001b[49m\u001b[43m=\u001b[49m\u001b[43mverify_integrity\u001b[49m\u001b[43m,\u001b[49m\n\u001b[32m    391\u001b[39m \u001b[43m    \u001b[49m\u001b[43mcopy\u001b[49m\u001b[43m=\u001b[49m\u001b[43mcopy\u001b[49m\u001b[43m,\u001b[49m\n\u001b[32m    392\u001b[39m \u001b[43m    \u001b[49m\u001b[43msort\u001b[49m\u001b[43m=\u001b[49m\u001b[43msort\u001b[49m\u001b[43m,\u001b[49m\n\u001b[32m    393\u001b[39m \u001b[43m\u001b[49m\u001b[43m)\u001b[49m\n\u001b[32m    395\u001b[39m \u001b[38;5;28;01mreturn\u001b[39;00m op.get_result()\n",
      "\u001b[36mFile \u001b[39m\u001b[32m~\\Desktop\\DE_BASIC\\.venv\\Lib\\site-packages\\pandas\\core\\reshape\\concat.py:445\u001b[39m, in \u001b[36m_Concatenator.__init__\u001b[39m\u001b[34m(self, objs, axis, join, keys, levels, names, ignore_index, verify_integrity, copy, sort)\u001b[39m\n\u001b[32m    442\u001b[39m \u001b[38;5;28mself\u001b[39m.verify_integrity = verify_integrity\n\u001b[32m    443\u001b[39m \u001b[38;5;28mself\u001b[39m.copy = copy\n\u001b[32m--> \u001b[39m\u001b[32m445\u001b[39m objs, keys = \u001b[38;5;28;43mself\u001b[39;49m\u001b[43m.\u001b[49m\u001b[43m_clean_keys_and_objs\u001b[49m\u001b[43m(\u001b[49m\u001b[43mobjs\u001b[49m\u001b[43m,\u001b[49m\u001b[43m \u001b[49m\u001b[43mkeys\u001b[49m\u001b[43m)\u001b[49m\n\u001b[32m    447\u001b[39m \u001b[38;5;66;03m# figure out what our result ndim is going to be\u001b[39;00m\n\u001b[32m    448\u001b[39m ndims = \u001b[38;5;28mself\u001b[39m._get_ndims(objs)\n",
      "\u001b[36mFile \u001b[39m\u001b[32m~\\Desktop\\DE_BASIC\\.venv\\Lib\\site-packages\\pandas\\core\\reshape\\concat.py:507\u001b[39m, in \u001b[36m_Concatenator._clean_keys_and_objs\u001b[39m\u001b[34m(self, objs, keys)\u001b[39m\n\u001b[32m    504\u001b[39m     objs_list = \u001b[38;5;28mlist\u001b[39m(objs)\n\u001b[32m    506\u001b[39m \u001b[38;5;28;01mif\u001b[39;00m \u001b[38;5;28mlen\u001b[39m(objs_list) == \u001b[32m0\u001b[39m:\n\u001b[32m--> \u001b[39m\u001b[32m507\u001b[39m     \u001b[38;5;28;01mraise\u001b[39;00m \u001b[38;5;167;01mValueError\u001b[39;00m(\u001b[33m\"\u001b[39m\u001b[33mNo objects to concatenate\u001b[39m\u001b[33m\"\u001b[39m)\n\u001b[32m    509\u001b[39m \u001b[38;5;28;01mif\u001b[39;00m keys \u001b[38;5;129;01mis\u001b[39;00m \u001b[38;5;28;01mNone\u001b[39;00m:\n\u001b[32m    510\u001b[39m     objs_list = \u001b[38;5;28mlist\u001b[39m(com.not_none(*objs_list))\n",
      "\u001b[31mValueError\u001b[39m: No objects to concatenate"
     ]
    }
   ],
   "source": [
    "import requests\n",
    "import xmltodict\n",
    "import pandas as pd\n",
    "from concurrent.futures import ThreadPoolExecutor\n",
    "from tqdm import tqdm\n",
    "\n",
    "# \n",
    "SERVICE_KEY = 'HHeKqMrerTqMhPse7LEB80QuK4KcGddt88mTHjz4qeIONsHYQgRmcCrDiehy3CEt7a9owu2TX1Brr337xz3e2Q%3D%3D'\n",
    "BASE_URL = \"http://apis.data.go.kr/1613000/RTMSDataSvcAptTradeDev/getRTMSDataSvcAptTradeDev\"\n",
    "\n",
    "# 지역 코드 (서울: 11110 ~ 전국 주요 코드, 일부만 예시. 전체 원할 시 파일 제공 가능)\n",
    "REGION_CODES = [\n",
    "    \"11110\", \"11200\", \"11305\",  # 서울 일부\n",
    "    \"26110\", \"26260\",           # 부산 일부\n",
    "    \"41110\", \"41170\",           # 경기 일부\n",
    "    \"42110\",                   # 강원\n",
    "    \"43110\",                   # 충북\n",
    "    \"44130\",                   # 충남\n",
    "    \"45110\",                   # 전북\n",
    "    \"46110\",                   # 전남\n",
    "    \"47111\",                   # 대구\n",
    "    \"48121\",                   # 경남\n",
    "    \"50110\"                    # 제주\n",
    "]\n",
    "\n",
    "# 월 리스트\n",
    "months = [f\"202501\", \"202502\", \"202503\", \"202504\", \"202505\", \"202506\"]\n",
    "\n",
    "# 수집 함수\n",
    "def fetch_data(lawd_cd, deal_ymd):\n",
    "    params = {\n",
    "        \"serviceKey\": SERVICE_KEY,\n",
    "        \"LAWD_CD\": lawd_cd,\n",
    "        \"DEAL_YMD\": deal_ymd,\n",
    "        \"numOfRows\": \"1000\",\n",
    "        \"pageNo\": \"1\"\n",
    "    }\n",
    "    try:\n",
    "        response = requests.get(BASE_URL, params=params, timeout=10)\n",
    "        data = xmltodict.parse(response.text)\n",
    "        items = data['response']['body']['items']\n",
    "        if not items:\n",
    "            return pd.DataFrame()\n",
    "        item = items['item']\n",
    "        if isinstance(item, list):\n",
    "            return pd.DataFrame(item)\n",
    "        else:\n",
    "            return pd.DataFrame([item])\n",
    "    except Exception as e:\n",
    "        print(f\"[오류] {lawd_cd}-{deal_ymd}: {e}\")\n",
    "        return pd.DataFrame()\n",
    "\n",
    "# 병렬 처리 수집\n",
    "results = []\n",
    "with ThreadPoolExecutor(max_workers=12) as executor:\n",
    "    tasks = []\n",
    "    for ym in months:\n",
    "        for code in REGION_CODES:\n",
    "            tasks.append((code, ym))\n",
    "    for df in tqdm(executor.map(lambda x: fetch_data(*x), tasks), total=len(tasks)):\n",
    "        if not df.empty:\n",
    "            results.append(df)\n",
    "\n",
    "# 데이터 병합 및 정제\n",
    "final_df = pd.concat(results, ignore_index=True)\n",
    "print(final_df.head())\n"
   ]
  }
 ],
 "metadata": {
  "kernelspec": {
   "display_name": "Python 3 (ipykernel)",
   "language": "python",
   "name": "python3"
  },
  "language_info": {
   "codemirror_mode": {
    "name": "ipython",
    "version": 3
   },
   "file_extension": ".py",
   "mimetype": "text/x-python",
   "name": "python",
   "nbconvert_exporter": "python",
   "pygments_lexer": "ipython3",
   "version": "3.11.12"
  }
 },
 "nbformat": 4,
 "nbformat_minor": 5
}
