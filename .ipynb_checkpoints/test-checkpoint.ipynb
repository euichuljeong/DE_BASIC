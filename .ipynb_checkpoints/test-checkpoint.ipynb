{
 "cells": [
  {
   "cell_type": "markdown",
   "id": "37c8a5b1",
   "metadata": {},
   "source": [
    "# NY Times 웹 크로링(API)"
   ]
  },
  {
   "cell_type": "code",
   "execution_count": null,
   "id": "341d7cf2",
   "metadata": {
    "vscode": {
     "languageId": "plaintext"
    }
   },
   "outputs": [],
   "source": [
    "import requests\n",
    "from bs4 import BeautifulSoup\n",
    "\n",
    "# 1. URL 설정\n",
    "url = \"http://quotes.toscrape.com/page/1/\"\n",
    "\n",
    "# 2. HTTP 요청\n",
    "response = requests.get(url)\n",
    "soup = BeautifulSoup(response.text, \"html.parser\")\n",
    "\n",
    "# 3. 명언과 저자 추출\n",
    "quotes = soup.find_all(\"div\", class_=\"quote\")\n",
    "\n",
    "for quote in quotes:\n",
    "    text = quote.find(\"span\", class_=\"text\").get_text()\n",
    "    author = quote.find(\"small\", class_=\"author\").get_text()\n",
    "    print(f\"{text} — {author}\")"
   ]
  },
  {
   "cell_type": "code",
   "execution_count": null,
   "id": "e0a8fe41",
   "metadata": {
    "vscode": {
     "languageId": "plaintext"
    }
   },
   "outputs": [],
   "source": [
    "import requests\n",
    "import pandas as pandas\n",
    "\n",
    "API_KEY = eDciAY1vTfhGEWBJhUOYtEns4SvgbUEt\n",
    "\n",
    "url = 'https://api.nytimes.com/svc/mostpopular/v2/viewed/1.json'\n",
    "params = {\n",
    "    \"api-key\" : API_KEY\n",
    "}\n",
    "\n",
    "response = requests.get(url, params=params)\n",
    "response"
   ]
  }
 ],
 "metadata": {
  "language_info": {
   "name": "python"
  }
 },
 "nbformat": 4,
 "nbformat_minor": 5
}
